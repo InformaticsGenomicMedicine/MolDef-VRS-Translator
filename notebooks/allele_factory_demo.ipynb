{
 "cells": [
  {
   "cell_type": "markdown",
   "id": "39762a4f",
   "metadata": {},
   "source": [
    "### Overview of the Jupyter Notebook and Utils Module\n",
    "\n",
    "I have developed several **Jupyter Notebooks** that demonstrate key functionalities related to **FHIR and VRS** schema interactions, including:  \n",
    "\n",
    "- Creating a **FHIR Allele**  \n",
    "- Creating a **FHIR Sequence**  \n",
    "- Constructing a **MolecularDefinition** resource  \n",
    "- Performing **bidirectional translation** between **VRS and FHIR**  \n",
    "\n",
    "However, these notebooks require users to have a **working knowledge of Jupyter Notebooks, Python, and the schema of both standards (FHIR & VRS)**.  \n",
    "This notebook simplifies our workflow by reducing the need for extensive background knowledge. It provides a structured approach for efficiently generating and translating data between FHIR and VRS."
   ]
  },
  {
   "cell_type": "markdown",
   "id": "f728a305",
   "metadata": {},
   "source": [
    "### Introducing the Utils Module: `allele_factory.py`\n",
    "\n",
    "To streamline the creation of FHIR Allele objects, we developed the **`allele_factory.py`** module, located in the **utils directory**. This module simplifies the process by allowing users to generate **FHIR Allele** and **VRS Allele** objects with only **five key attributes**.  \n",
    "\n",
    "### Functions in `allele_factory.py`  \n",
    "\n",
    "#### **`create_fhir_allele()` – Generates a FHIR Allele**  \n",
    "\n",
    "This function constructs a **FHIR Allele** using the following attributes:  \n",
    "\n",
    "- `context_sequence_id` (**str**): Accession number of the reference sequence. Supported prefixes include: (\"NC_\", \"NG_\", \"NM_\", \"NR_\", \"NP_\")\n",
    "- `start` (**int**): Start position of the allele  \n",
    "- `end` (**int**): End position of the allele  \n",
    "- `allele_state` (**str**): Literal value of the allele sequence state (e.g., ACGT)  \n",
    "- `id_value` (**str**, optional): The unique identifier for the Allele instance. If not provided, a default ID will be generated in the format 'ref-to-{context_sequence_id}'\n",
    "\n",
    "#### **`create_vrs_allele()` – Generates a VRS Allele**  \n",
    "\n",
    "This function constructs a **VRS Allele** using the following attributes:  \n",
    "- `context_sequence_id` (**str**): Accession number of the reference sequence. Supported prefixes include: (\"NC_\", \"NG_\", \"NM_\", \"NR_\", \"NP_\")\n",
    "- `start` (**int**): Start position of the sallele  \n",
    "- `end` (**int**): End position of the allele  \n",
    "- `allele_state` (**str**): Literal value of the allele sequence state (e.g., ACGT)  \n",
    "- `normalize` (**bool**, default=`True`): Option to normalize the VRS object  "
   ]
  },
  {
   "cell_type": "markdown",
   "id": "9985482f",
   "metadata": {},
   "source": [
    "### What This Notebook Demonstrates\n",
    "\n",
    "This notebook outlines a structured **workflow** to:\n",
    "\n",
    "1. **Set Up & Import Modules**  \n",
    "   - Load the `AlleleFactory` and `VrsFhirAlleleTranslator` modules.\n",
    "\n",
    "2. **Generate VRS and Translate to FHIR**  \n",
    "   - Create a **VRS Allele object** and convert it from **VRS → FHIR**.\n",
    "\n",
    "3. **Round-Trip Translation: VRS → FHIR → VRS**  \n",
    "   - Perform a **round-trip translation** back to VRS (**VRS → FHIR → VRS**).\n",
    "   \n",
    "4. **Generate FHIR and Translate to VRS**  \n",
    "   - Create a **FHIR Allele object** and convert it from **FHIR → VRS**.\n",
    "\n",
    "5. **Round-Trip Translation: FHIR → VRS → FHIR**  \n",
    "   - Perform a **round-trip translation** back to VRS (**FHIR → VRS → FHIR**)."
   ]
  },
  {
   "cell_type": "markdown",
   "id": "90015bd7",
   "metadata": {},
   "source": [
    "### Set up and import modules"
   ]
  },
  {
   "cell_type": "code",
   "execution_count": 1,
   "id": "233dc394",
   "metadata": {},
   "outputs": [],
   "source": [
    "# Importing the `AlleleFactory` class from the utils module\n",
    "from utils.allele_factory import AlleleFactory\n",
    "# Importing the `VrsFhirAlleleTranslator` class from the `translators` module\n",
    "from translators.vrs_fhir_translator import VrsFhirAlleleTranslator\n",
    "\n",
    "# Creating an instance of `AlleleFactory` to generate FHIR and VRS Allele objects\n",
    "build_allele = AlleleFactory()\n",
    "\n",
    "# Creating an instance of `VrsFhirAlleleTranslator` to enable bidirectional translation \n",
    "# between GA4GH VRS and HL7 FHIR Allele representations\n",
    "allele_translator= VrsFhirAlleleTranslator()"
   ]
  },
  {
   "cell_type": "markdown",
   "id": "ecf494bb",
   "metadata": {},
   "source": [
    "### Create VRS, translate to FHIR"
   ]
  },
  {
   "cell_type": "code",
   "execution_count": 2,
   "id": "5f3b7d72",
   "metadata": {},
   "outputs": [
    {
     "data": {
      "text/plain": [
       "{'id': 'ga4gh:VA.xfKU4c8mG_yegL5ZOL26JDiznySNkoMl',\n",
       " 'type': 'Allele',\n",
       " 'digest': 'xfKU4c8mG_yegL5ZOL26JDiznySNkoMl',\n",
       " 'location': {'id': 'ga4gh:SL.y0ckc1_lhMYKnh0f6FAEoEpgHyfX13OW',\n",
       "  'type': 'SequenceLocation',\n",
       "  'digest': 'y0ckc1_lhMYKnh0f6FAEoEpgHyfX13OW',\n",
       "  'sequenceReference': {'type': 'SequenceReference',\n",
       "   'refgetAccession': 'SQ.pnAqCRBrTsUoBghSD1yp_jXWSmlbdh4g'},\n",
       "  'start': 27453448,\n",
       "  'end': 27453449},\n",
       " 'state': {'type': 'LiteralSequenceExpression', 'sequence': 'T'}}"
      ]
     },
     "execution_count": 2,
     "metadata": {},
     "output_type": "execute_result"
    }
   ],
   "source": [
    "# Creating a GA4GH VRS Allele (Version 2.0) using the `create_vrs_allele` function\n",
    "example_vrs_allele = build_allele.create_vrs_allele(\n",
    "    context_sequence_id=\"NC_000002.12\",\n",
    "    start=27453448,\n",
    "    end=27453449,\n",
    "    allele_state=\"T\",\n",
    "    normalize=True\n",
    ")\n",
    "\n",
    "# Converting the VRS Allele object into a dictionary representation for easy viewing\n",
    "example_vrs_allele.model_dump(exclude_none=True)"
   ]
  },
  {
   "cell_type": "code",
   "execution_count": 3,
   "id": "6aa1f487",
   "metadata": {},
   "outputs": [
    {
     "data": {
      "text/plain": [
       "{'resourceType': 'MolecularDefinition',\n",
       " 'contained': [{'resourceType': 'MolecularDefinition',\n",
       "   'id': 'ref-to-nc000002',\n",
       "   'moleculeType': {'coding': [{'system': 'http://hl7.org/fhir/sequence-type',\n",
       "      'code': 'dna',\n",
       "      'display': 'DNA Sequence'}]},\n",
       "   'representation': [{'code': [{'coding': [{'system': 'http://www.ncbi.nlm.nih.gov/refseq',\n",
       "         'code': 'NC_000002.12'}]}]}]}],\n",
       " 'moleculeType': {'coding': [{'system': 'http://hl7.org/fhir/sequence-type',\n",
       "    'code': 'dna',\n",
       "    'display': 'DNA Sequence'}]},\n",
       " 'location': [{'sequenceLocation': {'sequenceContext': {'reference': '#ref-to-nc000002',\n",
       "     'type': 'MolecularDefinition'},\n",
       "    'coordinateInterval': {'coordinateSystem': {'system': {'coding': [{'system': 'http://loinc.org',\n",
       "         'code': 'LA30100-4',\n",
       "         'display': '0-based interval counting'}]}},\n",
       "     'startQuantity': {'value': 27453448.0},\n",
       "     'endQuantity': {'value': 27453449.0}}}}],\n",
       " 'representation': [{'focus': {'coding': [{'system': 'http://hl7.org/fhir/moleculardefinition-focus',\n",
       "      'code': 'allele-state'}]},\n",
       "   'literal': {'value': 'T'}}]}"
      ]
     },
     "execution_count": 3,
     "metadata": {},
     "output_type": "execute_result"
    }
   ],
   "source": [
    "# Translating a GA4GH VRS Allele into an HL7 FHIR Allele\n",
    "# This function takes a VRS Allele object and converts it into its corresponding FHIR representation\n",
    "vrs_to_fhir_translation_example = allele_translator.translate_allele_to_fhir(example_vrs_allele)\n",
    "\n",
    "# Converting the translated Allele object into a dictionary representation for easy viewing\n",
    "vrs_to_fhir_translation_example.model_dump()"
   ]
  },
  {
   "cell_type": "markdown",
   "id": "5645cebd",
   "metadata": {},
   "source": [
    "### Round-Trip Translation: VRS → FHIR → VRS"
   ]
  },
  {
   "cell_type": "code",
   "execution_count": 4,
   "id": "04e35fc5",
   "metadata": {},
   "outputs": [
    {
     "name": "stdout",
     "output_type": "stream",
     "text": [
      "Check if the original and round-tripped VRS Allele are identical.\n",
      "True\n"
     ]
    }
   ],
   "source": [
    "# Translate the FHIR Allele profile back to a VRS Allele object\n",
    "back_to_vrs = allele_translator.translate_allele_to_vrs(vrs_to_fhir_translation_example)\n",
    "\n",
    "print(\"Check if the original and round-tripped VRS Allele are identical.\")\n",
    "print(example_vrs_allele == back_to_vrs)"
   ]
  },
  {
   "cell_type": "markdown",
   "id": "4d1d0da6",
   "metadata": {},
   "source": [
    "### Create FHIR, translate to VRS"
   ]
  },
  {
   "cell_type": "code",
   "execution_count": 5,
   "id": "c7e71d03",
   "metadata": {},
   "outputs": [
    {
     "data": {
      "text/plain": [
       "{'resourceType': 'MolecularDefinition',\n",
       " 'contained': [{'resourceType': 'MolecularDefinition',\n",
       "   'id': 'ref-to-nc000002',\n",
       "   'moleculeType': {'coding': [{'system': 'http://hl7.org/fhir/sequence-type',\n",
       "      'code': 'dna',\n",
       "      'display': 'DNA Sequence'}]},\n",
       "   'representation': [{'code': [{'coding': [{'system': 'http://www.ncbi.nlm.nih.gov/refseq',\n",
       "         'code': 'NC_000002.12'}]}]}]}],\n",
       " 'moleculeType': {'coding': [{'system': 'http://hl7.org/fhir/sequence-type',\n",
       "    'code': 'dna',\n",
       "    'display': 'DNA Sequence'}]},\n",
       " 'location': [{'sequenceLocation': {'sequenceContext': {'reference': '#ref-to-nc000002',\n",
       "     'type': 'MolecularDefinition'},\n",
       "    'coordinateInterval': {'coordinateSystem': {'system': {'coding': [{'system': 'http://loinc.org',\n",
       "         'code': 'LA30100-4',\n",
       "         'display': '0-based interval counting'}]}},\n",
       "     'startQuantity': {'value': 27453448.0},\n",
       "     'endQuantity': {'value': 27453449.0}}}}],\n",
       " 'representation': [{'focus': {'coding': [{'system': 'http://hl7.org/fhir/moleculardefinition-focus',\n",
       "      'code': 'allele-state'}]},\n",
       "   'literal': {'value': 'T'}}]}"
      ]
     },
     "execution_count": 5,
     "metadata": {},
     "output_type": "execute_result"
    }
   ],
   "source": [
    "# Creating an HL7 FHIR Allele using the `create_fhir_allele` function\n",
    "example_fhir_allele = build_allele.create_fhir_allele(\n",
    "    context_sequence_id=\"NC_000002.12\",\n",
    "    start=27453448,\n",
    "    end=27453449,\n",
    "    allele_state=\"T\",\n",
    ")\n",
    "\n",
    "# Converting the Allele object into a dictionary representation for easy viewing\n",
    "example_fhir_allele.model_dump(exclude_none=True)"
   ]
  },
  {
   "cell_type": "code",
   "execution_count": 6,
   "id": "43b76dac",
   "metadata": {},
   "outputs": [
    {
     "name": "stdout",
     "output_type": "stream",
     "text": [
      "<class 'ga4gh.vrs.models.Allele'>\n"
     ]
    },
    {
     "data": {
      "text/plain": [
       "{'id': 'ga4gh:VA.xfKU4c8mG_yegL5ZOL26JDiznySNkoMl',\n",
       " 'type': 'Allele',\n",
       " 'digest': 'xfKU4c8mG_yegL5ZOL26JDiznySNkoMl',\n",
       " 'location': {'id': 'ga4gh:SL.y0ckc1_lhMYKnh0f6FAEoEpgHyfX13OW',\n",
       "  'type': 'SequenceLocation',\n",
       "  'digest': 'y0ckc1_lhMYKnh0f6FAEoEpgHyfX13OW',\n",
       "  'sequenceReference': {'type': 'SequenceReference',\n",
       "   'refgetAccession': 'SQ.pnAqCRBrTsUoBghSD1yp_jXWSmlbdh4g'},\n",
       "  'start': 27453448,\n",
       "  'end': 27453449},\n",
       " 'state': {'type': 'LiteralSequenceExpression', 'sequence': 'T'}}"
      ]
     },
     "execution_count": 6,
     "metadata": {},
     "output_type": "execute_result"
    }
   ],
   "source": [
    "# Translating an HL7 FHIR Allele into a GA4GH VRS Allele\n",
    "# This function converts a FHIR Allele object into its corresponding VRS representation\n",
    "fhir_to_vrs_translation_example = allele_translator.translate_allele_to_vrs(example_fhir_allele)\n",
    "\n",
    "# Printing the type of the translated object to confirm the output class\n",
    "print(type(fhir_to_vrs_translation_example))\n",
    "\n",
    "# Converting the translated VRS Allele object into a dictionary representation for easy viewing\n",
    "fhir_to_vrs_translation_example.model_dump(exclude_none=True)"
   ]
  },
  {
   "cell_type": "markdown",
   "id": "6d1afb71",
   "metadata": {},
   "source": [
    "### Round-Trip Translation: FHIR → VRS → FHIR\n",
    "- The `create_fhir_allele()` function supports round-trip compatibility between FHIR and VRS.\n",
    "- If you want to enable full round-trip compatibility, **do not provide a custom `id_value`** when constructing an AlleleProfile.\n",
    "- When `id_value` is omitted, a default identifier is automatically generated in the format:  \n",
    "  `ref-to-{context_sequence_id}`\n",
    "- This approach ensures consistent and lossless translation from FHIR → VRS → FHIR."
   ]
  },
  {
   "cell_type": "code",
   "execution_count": 7,
   "id": "32c2d29c",
   "metadata": {},
   "outputs": [
    {
     "name": "stdout",
     "output_type": "stream",
     "text": [
      "Check if the original and round-tripped FHIR Allele are identical.\n",
      "True\n"
     ]
    }
   ],
   "source": [
    "# Translate the VRS Allele object back to FHIR Allele \n",
    "back_to_fhir = allele_translator.translate_allele_to_fhir(fhir_to_vrs_translation_example)\n",
    "\n",
    "print(\"Check if the original and round-tripped FHIR Allele are identical.\")\n",
    "print(example_fhir_allele == back_to_fhir)"
   ]
  },
  {
   "cell_type": "markdown",
   "id": "7f86d283",
   "metadata": {},
   "source": [
    "### Conclusion\n",
    "\n",
    "For a more detailed exploration of the implementation, refer to the other notebooks that provide an in-depth, step-by-step guide on creating these objects and performing translations between FHIR and VRS.  "
   ]
  }
 ],
 "metadata": {
  "kernelspec": {
   "display_name": "venv",
   "language": "python",
   "name": "python3"
  },
  "language_info": {
   "codemirror_mode": {
    "name": "ipython",
    "version": 3
   },
   "file_extension": ".py",
   "mimetype": "text/x-python",
   "name": "python",
   "nbconvert_exporter": "python",
   "pygments_lexer": "ipython3",
   "version": "3.11.5"
  }
 },
 "nbformat": 4,
 "nbformat_minor": 5
}
