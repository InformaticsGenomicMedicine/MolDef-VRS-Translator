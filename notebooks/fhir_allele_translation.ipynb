{
 "cells": [
  {
   "cell_type": "markdown",
   "id": "fcd26971",
   "metadata": {},
   "source": [
    "### Demonstration Overview: Translating an Allele Profile into a  VRS (version 2.0) object\n",
    "\n",
    "This notebook demonstrates the conversion of an **HL7 FHIR AlleleProfile** into a **GA4GH VRS (Version 2.0)** representation. Using example data, an `AlleleProfile` object is generated and subsequently translated into a VRS allele via the `translate_allele_to_vrs` method from the `VrsFhirAlleleTranslator` class. This method facilitates a one-way transformation from **FHIR AlleleProfiles** to **VRS Alleles**.\n",
    "\n",
    "For a more comprehensive understanding of the **HL7 FHIR Allele**, we recommend reviewing the [FHIR Allele Demo Notebook](../schema/allele_profile_demo.ipynb) notebook as well as the [HL7 FHIR MolecularDefinition Documentation](https://build.fhir.org/branches/cg-im-moldef_work_in_progress_2/moleculardefinition.html).\n"
   ]
  },
  {
   "cell_type": "markdown",
   "id": "36764979",
   "metadata": {},
   "source": [
    "### Prerequisites and Setup\n",
    "\n",
    "To support the one way transformation from FHIR Alelle to VRS Allele of this demonstration, we set up the environment by importing the necessary libraries and modules. These include:\n",
    "\n",
    "1. **Custom Project Modules**:\n",
    "   - `Allele` from `profiles.allele`: A data structure representing an HL7 FHIR Allele\n",
    "   - `VrsFhirAlleleTranslator` from `translators.vrs_fhir_translator`: A translation component for converting VRS alleles into Allele Profile."
   ]
  },
  {
   "cell_type": "code",
   "execution_count": 1,
   "id": "db539070",
   "metadata": {},
   "outputs": [],
   "source": [
    "from profiles.allele import Allele as FhirAllele\n",
    "from translators.vrs_fhir_translator import VrsFhirAlleleTranslator\n",
    "\n",
    "allele_translator = VrsFhirAlleleTranslator()"
   ]
  },
  {
   "cell_type": "code",
   "execution_count": 2,
   "id": "494320bc",
   "metadata": {},
   "outputs": [],
   "source": [
    "example_substitution = {\n",
    "    \"resourceType\": \"MolecularDefinition\",\n",
    "    \"contained\": [\n",
    "        {\n",
    "            # This is the id for the Sequence\n",
    "            \"id\": \"ref-to-nc000002\",\n",
    "            \"resourceType\": \"MolecularDefinition\",\n",
    "            \"moleculeType\": {\n",
    "                \"coding\": [\n",
    "                    {\n",
    "                        \"system\": \"http://hl7.org/fhir/sequence-type\",\n",
    "                        \"code\": \"dna\",\n",
    "                        \"display\": \"DNA Sequence\",\n",
    "                    }\n",
    "                ]\n",
    "            },\n",
    "            # Remember Sequence doesn't include a location or memberState.\n",
    "            \"representation\": [\n",
    "                {\n",
    "                    \"code\": [\n",
    "                        {\n",
    "                            \"coding\": [\n",
    "                                {\n",
    "                                    \"system\": \"http://www.ncbi.nlm.nih.gov/refseq\",\n",
    "                                    # This is where we need to capture the reference sequence\n",
    "                                    \"code\": \"NC_000002.12\",\n",
    "                                }\n",
    "                            ]\n",
    "                        }\n",
    "                    ]\n",
    "                }\n",
    "            ],\n",
    "        }\n",
    "    ],\n",
    "    \"moleculeType\": {\n",
    "        \"coding\": [\n",
    "            {\n",
    "                \"system\": \"http://hl7.org/fhir/sequence-type\",\n",
    "                \"code\": \"dna\",\n",
    "                \"display\": \"DNA Sequence\",\n",
    "            }\n",
    "        ]\n",
    "    },\n",
    "    \"location\": [\n",
    "        {\n",
    "            \"sequenceLocation\": {\n",
    "                \"sequenceContext\": {\n",
    "                    # This indicates that we are referencing the sequence mentioned above within the contained section.\n",
    "                    \"reference\": \"#ref-to-nc000002\",\n",
    "                    \"type\": \"MolecularDefinition\",\n",
    "                    \"display\": \"NC_000002.12\",\n",
    "                },\n",
    "                \"coordinateInterval\": {\n",
    "                    \"coordinateSystem\": {\n",
    "                        \"system\": {\n",
    "                            \"coding\": [\n",
    "                                {\n",
    "                                    \"system\": \"http://loinc.org\",\n",
    "                                    \"code\": \"LA30100-4\",\n",
    "                                    # Must only contain the system's coordinate for translation\n",
    "                                    \"display\": \"0-based interval counting\",\n",
    "                                }\n",
    "                            ],\n",
    "                            \"text\": \"0-based interval counting\",\n",
    "                        }\n",
    "                    },\n",
    "                    # Example needs to contain the startQuantity for translation\n",
    "                    \"startQuantity\": {\"value\": 27453448},\n",
    "                    # Example needs to contain the endQuantity for translation\n",
    "                    \"endQuantity\": {\"value\": 27453449},\n",
    "                },\n",
    "            }\n",
    "        }\n",
    "    ],\n",
    "    \"representation\": [\n",
    "        {\n",
    "            \"focus\": {\n",
    "                \"coding\": [\n",
    "                    {\n",
    "                        # Example needs to contain system\n",
    "                        \"system\": \"http://hl7.org/fhir/moleculardefinition-focus\",\n",
    "                        # Example needs to contain code\n",
    "                        \"code\": \"allele-state\",\n",
    "                        \"display\": \"Allele State\",\n",
    "                    }\n",
    "                ]\n",
    "            },\n",
    "            \"literal\": {\n",
    "                # Example needs to contain the literal value for translation\n",
    "                \"value\": \"T\"\n",
    "            },\n",
    "        }\n",
    "    ],\n",
    "}"
   ]
  },
  {
   "cell_type": "code",
   "execution_count": 3,
   "id": "d1e7de6e",
   "metadata": {},
   "outputs": [
    {
     "data": {
      "text/plain": [
       "{'resourceType': 'MolecularDefinition',\n",
       " 'contained': [{'resourceType': 'MolecularDefinition',\n",
       "   'id': 'ref-to-nc000002',\n",
       "   'moleculeType': {'coding': [{'system': 'http://hl7.org/fhir/sequence-type',\n",
       "      'code': 'dna',\n",
       "      'display': 'DNA Sequence'}]},\n",
       "   'representation': [{'code': [{'coding': [{'system': 'http://www.ncbi.nlm.nih.gov/refseq',\n",
       "         'code': 'NC_000002.12'}]}]}]}],\n",
       " 'moleculeType': {'coding': [{'system': 'http://hl7.org/fhir/sequence-type',\n",
       "    'code': 'dna',\n",
       "    'display': 'DNA Sequence'}]},\n",
       " 'location': [{'sequenceLocation': {'sequenceContext': {'reference': '#ref-to-nc000002',\n",
       "     'type': 'MolecularDefinition',\n",
       "     'display': 'NC_000002.12'},\n",
       "    'coordinateInterval': {'coordinateSystem': {'system': {'coding': [{'system': 'http://loinc.org',\n",
       "         'code': 'LA30100-4',\n",
       "         'display': '0-based interval counting'}],\n",
       "       'text': '0-based interval counting'}},\n",
       "     'startQuantity': {'value': 27453448.0},\n",
       "     'endQuantity': {'value': 27453449.0}}}}],\n",
       " 'representation': [{'focus': {'coding': [{'system': 'http://hl7.org/fhir/moleculardefinition-focus',\n",
       "      'code': 'allele-state',\n",
       "      'display': 'Allele State'}]},\n",
       "   'literal': {'value': 'T'}}]}"
      ]
     },
     "execution_count": 3,
     "metadata": {},
     "output_type": "execute_result"
    }
   ],
   "source": [
    "example_allele_substitution = FhirAllele(**example_substitution)\n",
    "example_allele_substitution.model_dump()"
   ]
  },
  {
   "cell_type": "markdown",
   "id": "a9d4e74d",
   "metadata": {},
   "source": [
    "### Normalized VRS allele translation"
   ]
  },
  {
   "cell_type": "code",
   "execution_count": 4,
   "id": "40c71a9f",
   "metadata": {},
   "outputs": [
    {
     "data": {
      "text/plain": [
       "{'id': 'ga4gh:VA.xfKU4c8mG_yegL5ZOL26JDiznySNkoMl',\n",
       " 'type': 'Allele',\n",
       " 'digest': 'xfKU4c8mG_yegL5ZOL26JDiznySNkoMl',\n",
       " 'location': {'id': 'ga4gh:SL.y0ckc1_lhMYKnh0f6FAEoEpgHyfX13OW',\n",
       "  'type': 'SequenceLocation',\n",
       "  'digest': 'y0ckc1_lhMYKnh0f6FAEoEpgHyfX13OW',\n",
       "  'sequenceReference': {'type': 'SequenceReference',\n",
       "   'refgetAccession': 'SQ.pnAqCRBrTsUoBghSD1yp_jXWSmlbdh4g'},\n",
       "  'start': 27453448,\n",
       "  'end': 27453449},\n",
       " 'state': {'type': 'LiteralSequenceExpression', 'sequence': 'T'}}"
      ]
     },
     "execution_count": 4,
     "metadata": {},
     "output_type": "execute_result"
    }
   ],
   "source": [
    "vrs_example_allele_substitution_norm = allele_translator.translate_allele_to_vrs(example_allele_substitution)\n",
    "vrs_example_allele_substitution_norm.model_dump(exclude_none=True)"
   ]
  },
  {
   "cell_type": "markdown",
   "id": "304ce89e",
   "metadata": {},
   "source": [
    "### Non-normalized VRS allele translation"
   ]
  },
  {
   "cell_type": "code",
   "execution_count": 5,
   "id": "af899f82",
   "metadata": {},
   "outputs": [
    {
     "data": {
      "text/plain": [
       "{'type': 'Allele',\n",
       " 'location': {'type': 'SequenceLocation',\n",
       "  'sequenceReference': {'type': 'SequenceReference',\n",
       "   'refgetAccession': 'SQ.pnAqCRBrTsUoBghSD1yp_jXWSmlbdh4g'},\n",
       "  'start': 27453448,\n",
       "  'end': 27453449},\n",
       " 'state': {'type': 'LiteralSequenceExpression', 'sequence': 'T'}}"
      ]
     },
     "execution_count": 5,
     "metadata": {},
     "output_type": "execute_result"
    }
   ],
   "source": [
    "vrs_example_allele_substitution_unnorm = allele_translator.translate_allele_to_vrs(example_allele_substitution,normalize=False)\n",
    "vrs_example_allele_substitution_unnorm.model_dump(exclude_none=True)"
   ]
  },
  {
   "cell_type": "markdown",
   "id": "8469345e",
   "metadata": {},
   "source": [
    "### Example 2"
   ]
  },
  {
   "cell_type": "code",
   "execution_count": 6,
   "id": "06d4ffaf",
   "metadata": {},
   "outputs": [],
   "source": [
    "example_insertion = {\n",
    "    \"resourceType\": \"MolecularDefinition\",\n",
    "    \"contained\": [\n",
    "        {\n",
    "            \"resourceType\": \"MolecularDefinition\",\n",
    "            # This is the id for the Sequence\n",
    "            \"id\": \"ref-to-nc000001\",\n",
    "            \"moleculeType\": {\n",
    "                \"coding\": [\n",
    "                    {\n",
    "                        \"system\": \"http://hl7.org/fhir/sequence-type\",\n",
    "                        \"code\": \"dna\",\n",
    "                        \"display\": \"DNA Sequence\",\n",
    "                    }\n",
    "                ]\n",
    "            },\n",
    "            # Remember Sequence doesn't include a location or memberState.\n",
    "            \"representation\": [\n",
    "                {\n",
    "                    \"code\": [\n",
    "                        {\n",
    "                            \"coding\": [\n",
    "                                {\n",
    "                                    \"system\": \"http://www.ncbi.nlm.nih.gov/refseq\",\n",
    "                                    # This is where we need to capture the reference sequence\n",
    "                                    \"code\": \"NC_000001.11\",\n",
    "                                }\n",
    "                            ]\n",
    "                        }\n",
    "                    ]\n",
    "                }\n",
    "            ],\n",
    "        }\n",
    "    ],\n",
    "    \"moleculeType\": {\n",
    "        \"coding\": [\n",
    "            {\n",
    "                \"system\": \"http://hl7.org/fhir/sequence-type\",\n",
    "                \"code\": \"dna\",\n",
    "                \"display\": \"DNA Sequence\",\n",
    "            }\n",
    "        ]\n",
    "    },\n",
    "    \"location\": [\n",
    "        {\n",
    "            \"sequenceLocation\": {\n",
    "                \"sequenceContext\": {\n",
    "                    # This indicates that we are referencing the sequence mentioned above within the contained section.\n",
    "                    \"reference\": \"#ref-to-nc000001\",\n",
    "                    \"type\": \"MolecularDefinition\",\n",
    "                },\n",
    "                \"coordinateInterval\": {\n",
    "                    \"coordinateSystem\": {\n",
    "                        \"system\": {\n",
    "                            \"coding\": [\n",
    "                                {\n",
    "                                    \"system\": \"http://loinc.org\",\n",
    "                                    \"code\": \"LA30100-4\",\n",
    "                                    # Must only contain the system's coordinate for translation\n",
    "                                    \"display\": \"0-based interval counting\",\n",
    "                                }\n",
    "                            ],\n",
    "                            \"text\": \"0-based interval counting\",\n",
    "                        }\n",
    "                    },\n",
    "                    # Example needs to contain the startQuantity for translation\n",
    "                    \"startQuantity\": {\"value\": 113901365},\n",
    "                    # Example needs to contain the endQuantity for translation\n",
    "                    \"endQuantity\": {\"value\": 113901365},\n",
    "                },\n",
    "            }\n",
    "        }\n",
    "    ],\n",
    "    \"representation\": [\n",
    "        {\n",
    "            \"focus\": {\n",
    "                \"coding\": [\n",
    "                    {\n",
    "                        # Example needs to contain system\n",
    "                        \"system\": \"http://hl7.org/fhir/moleculardefinition-focus\",\n",
    "                        # Example needs to contain code\n",
    "                        \"code\": \"allele-state\",\n",
    "                        \"display\": \"Allele State\",\n",
    "                    }\n",
    "                ]\n",
    "            },\n",
    "            \"literal\": {\n",
    "                # Example needs to contain the literal value for translation\n",
    "                \"value\": \"ATA\"\n",
    "            },\n",
    "        }\n",
    "    ],\n",
    "}\n"
   ]
  },
  {
   "cell_type": "code",
   "execution_count": 7,
   "id": "759ca000",
   "metadata": {},
   "outputs": [
    {
     "data": {
      "text/plain": [
       "{'resourceType': 'MolecularDefinition',\n",
       " 'contained': [{'resourceType': 'MolecularDefinition',\n",
       "   'id': 'ref-to-nc000001',\n",
       "   'moleculeType': {'coding': [{'system': 'http://hl7.org/fhir/sequence-type',\n",
       "      'code': 'dna',\n",
       "      'display': 'DNA Sequence'}]},\n",
       "   'representation': [{'code': [{'coding': [{'system': 'http://www.ncbi.nlm.nih.gov/refseq',\n",
       "         'code': 'NC_000001.11'}]}]}]}],\n",
       " 'moleculeType': {'coding': [{'system': 'http://hl7.org/fhir/sequence-type',\n",
       "    'code': 'dna',\n",
       "    'display': 'DNA Sequence'}]},\n",
       " 'location': [{'sequenceLocation': {'sequenceContext': {'reference': '#ref-to-nc000001',\n",
       "     'type': 'MolecularDefinition'},\n",
       "    'coordinateInterval': {'coordinateSystem': {'system': {'coding': [{'system': 'http://loinc.org',\n",
       "         'code': 'LA30100-4',\n",
       "         'display': '0-based interval counting'}],\n",
       "       'text': '0-based interval counting'}},\n",
       "     'startQuantity': {'value': 113901365.0},\n",
       "     'endQuantity': {'value': 113901365.0}}}}],\n",
       " 'representation': [{'focus': {'coding': [{'system': 'http://hl7.org/fhir/moleculardefinition-focus',\n",
       "      'code': 'allele-state',\n",
       "      'display': 'Allele State'}]},\n",
       "   'literal': {'value': 'ATA'}}]}"
      ]
     },
     "execution_count": 7,
     "metadata": {},
     "output_type": "execute_result"
    }
   ],
   "source": [
    "example_allele_insertion = FhirAllele(**example_insertion)\n",
    "example_allele_insertion.model_dump()"
   ]
  },
  {
   "cell_type": "code",
   "execution_count": 8,
   "id": "9ce692f8",
   "metadata": {},
   "outputs": [
    {
     "data": {
      "text/plain": [
       "{'id': 'ga4gh:VA.3edM6TTGAmx8DnPV-uzA6IYlAfatAP2s',\n",
       " 'type': 'Allele',\n",
       " 'digest': '3edM6TTGAmx8DnPV-uzA6IYlAfatAP2s',\n",
       " 'location': {'id': 'ga4gh:SL.OUMCiUkn_AGlFuFCFTdfppig932_HV2k',\n",
       "  'type': 'SequenceLocation',\n",
       "  'digest': 'OUMCiUkn_AGlFuFCFTdfppig932_HV2k',\n",
       "  'sequenceReference': {'type': 'SequenceReference',\n",
       "   'refgetAccession': 'SQ.Ya6Rs7DHhDeg7YaOSg1EoNi3U_nQ9SvO'},\n",
       "  'start': 113901365,\n",
       "  'end': 113901365},\n",
       " 'state': {'type': 'LiteralSequenceExpression', 'sequence': 'ATA'}}"
      ]
     },
     "execution_count": 8,
     "metadata": {},
     "output_type": "execute_result"
    }
   ],
   "source": [
    "vrs_example_allele_insertion = allele_translator.translate_allele_to_vrs(example_allele_insertion)\n",
    "vrs_example_allele_insertion.model_dump(exclude_none=True)"
   ]
  },
  {
   "cell_type": "markdown",
   "id": "482a57bd",
   "metadata": {},
   "source": [
    "### Conclusion\n",
    "\n",
    "In this notebook, we demonstrated how to translate HL7 FHIR Allele into GA4GH VRS alleles. We began by using Python’s `**` unpacking syntax to generate a class instance directly from the complete JSON structure, and then converted the FHIR Allele object into a VRS Allele object using the `VrsFhirAlleleTranslator` class.\n",
    "\n",
    "If you would like to learn more about building FHIR Allele step-by-step, we recommend reviewing the [FHIR Allele Demo Notebook](../schema/allele_profile_demo.ipynb) notebook.\n",
    "\n",
    "We recognize that the HL7 FHIR MolecularDefinition schema is continuously evolving, which may affect the structure of FHIR Allele. As the schema changes, this code will also continue to evolve to maintain compatibility.\n"
   ]
  }
 ],
 "metadata": {
  "kernelspec": {
   "display_name": "venv",
   "language": "python",
   "name": "python3"
  },
  "language_info": {
   "codemirror_mode": {
    "name": "ipython",
    "version": 3
   },
   "file_extension": ".py",
   "mimetype": "text/x-python",
   "name": "python",
   "nbconvert_exporter": "python",
   "pygments_lexer": "ipython3",
   "version": "3.11.5"
  }
 },
 "nbformat": 4,
 "nbformat_minor": 5
}
