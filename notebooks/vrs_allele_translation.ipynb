{
 "cells": [
  {
   "cell_type": "markdown",
   "id": "f7d847ca",
   "metadata": {},
   "source": [
    "### Demonstration Overview: Translating a VRS (version 2.0) object into an Allele Profile\n",
    "\n",
    "This notebook demonstrates the translation of GA4GH VRS (version 2.0) into the HL7 FHIR Allele format. \n",
    "\n",
    "In this notebook, we use example data to generate VRS objects with the `vrs-python` library. Once created, these objects can be converted into FHIR-compliant Allele using the `translate_allele_to_fhir` method from the `VrsFhirAlleleTranslator` class. This method enables a one-way transformation from VRS to FHIR Allele."
   ]
  },
  {
   "cell_type": "markdown",
   "id": "4290a269",
   "metadata": {},
   "source": [
    "### Prerequisites and Setup\n",
    "\n",
    "To support the one way transformation from VRS Allele to FHIR Alelle of this demonstration, we set up the environment by importing the necessary libraries and modules. These include:\n",
    "\n",
    "1. **External Package**:\n",
    "   - `models` from `ga4gh.vrs`: Provides foundational data models for working with GA4GH Variation Representation Schema (VRS).\n",
    "\n",
    "2. **Custom Project Modules**:\n",
    "   - `AlleleNormalizer` from `normalize.allele_normalizer`: A utility for normalizing a vrs allele object.\n",
    "   - `VrsFhirAlleleTranslator` from `translators.vrs_fhir_translator`: A translation component for converting VRS alleles into FHIR Allele."
   ]
  },
  {
   "cell_type": "code",
   "execution_count": null,
   "id": "981980c4",
   "metadata": {},
   "outputs": [],
   "source": [
    "# importing the vrs models\n",
    "from ga4gh.vrs.models import SequenceLocation,SequenceReference,LiteralSequenceExpression,sequenceString,Allele\n",
    "from translators.vrs_fhir_translator import VrsFhirAlleleTranslator\n",
    "from normalizers.allele_normalizer import AlleleNormalizer\n",
    "from api.seqrepo import SeqRepoAPI\n",
    "\n",
    "\n",
    "normalize = AlleleNormalizer()\n",
    "allele_translator = VrsFhirAlleleTranslator()\n",
    "seqrepo_api = SeqRepoAPI()"
   ]
  },
  {
   "cell_type": "markdown",
   "id": "74a168ff",
   "metadata": {},
   "source": [
    "### Example 1: Creating, Normalizing, and Translating a VRS Allele\n",
    "\n",
    "In this example, we first generate a VRS allele object and normalize it. Next, we translate the normalized allele into a FHIR-compliant Allele."
   ]
  },
  {
   "cell_type": "code",
   "execution_count": null,
   "id": "cad6914f",
   "metadata": {},
   "outputs": [],
   "source": [
    "# Creating the VRS object and then normalizing it.\n",
    "# Example 1 - Deletion origin: \"NC_000001.11:g.1014265del\"\n",
    "start = 1014263\n",
    "end = 1014265\n",
    "refseq = \"NC_000001.11\"\n",
    "alt_seq = \"C\"\n",
    "\n",
    "\n",
    "refget_accession = seqrepo_api.seqrepo_dataproxy.derive_refget_accession(f\"refseq:{refseq}\")\n",
    "seq_ref = SequenceReference(\n",
    "    refgetAccession=refget_accession.split(\"refget:\")[-1]\n",
    "    )\n",
    "\n",
    "seq_location = SequenceLocation(\n",
    "    sequenceReference=seq_ref,\n",
    "    start = start,\n",
    "    end=end,\n",
    ")\n",
    "\n",
    "lit_seq_expr = LiteralSequenceExpression(\n",
    "    sequence=sequenceString(alt_seq)\n",
    ")\n",
    "\n",
    "del_example_1 = Allele(\n",
    "    location=seq_location,\n",
    "    state=lit_seq_expr\n",
    ")\n",
    "\n",
    "norm_del_example_1 = normalize.post_normalize_allele(del_example_1)\n",
    "norm_del_example_1.model_dump(exclude_none=True)"
   ]
  },
  {
   "cell_type": "code",
   "execution_count": null,
   "id": "d4807be5",
   "metadata": {},
   "outputs": [],
   "source": [
    "# Translating the normalized allele into an allele profile\n",
    "allele_profile_del_example = allele_translator.translate_allele_to_fhir(norm_del_example_1)\n",
    "\n",
    "print(type(allele_profile_del_example))\n",
    "allele_profile_del_example.model_dump()"
   ]
  },
  {
   "cell_type": "markdown",
   "id": "c546c6de",
   "metadata": {},
   "source": [
    "### Example 2 "
   ]
  },
  {
   "cell_type": "code",
   "execution_count": null,
   "id": "539792d4",
   "metadata": {},
   "outputs": [],
   "source": [
    "# Creating the VRS object and then normalizing it.\n",
    "# Example 2 - Insertion origin: \"NC_000001.11:g.113901365_113901366insATA\"\n",
    "start = 113901365\n",
    "end = 113901365\n",
    "refseq = \"NC_000001.11\"\n",
    "alt_seq = \"ATA\"\n",
    "\n",
    "\n",
    "refget_accession = seqrepo_api.seqrepo_dataproxy.derive_refget_accession(f\"refseq:{refseq}\")\n",
    "seq_ref = SequenceReference(\n",
    "    refgetAccession=refget_accession.split(\"refget:\")[-1]\n",
    "    )\n",
    "\n",
    "seq_location = SequenceLocation(\n",
    "    sequenceReference=seq_ref,\n",
    "    start = start,\n",
    "    end=end,\n",
    ")\n",
    "lit_seq_expr = LiteralSequenceExpression(\n",
    "    sequence=sequenceString(alt_seq)\n",
    ")\n",
    "insertion_example = Allele(\n",
    "    location=seq_location,\n",
    "    state=lit_seq_expr\n",
    ")\n",
    "\n",
    "norm_insertion_example = normalize.post_normalize_allele(insertion_example)\n",
    "norm_insertion_example.model_dump(exclude_none=True)"
   ]
  },
  {
   "cell_type": "code",
   "execution_count": null,
   "id": "42f83950",
   "metadata": {},
   "outputs": [],
   "source": [
    "# Translating the normalized allele into an allele profile\n",
    "allele_profile_insertion = allele_translator.translate_allele_to_fhir(norm_insertion_example)\n",
    "\n",
    "print(type(allele_profile_insertion))\n",
    "allele_profile_insertion.model_dump()"
   ]
  },
  {
   "cell_type": "markdown",
   "id": "2ad9ca3a",
   "metadata": {},
   "source": [
    "### Example 3"
   ]
  },
  {
   "cell_type": "code",
   "execution_count": null,
   "id": "85b7a473",
   "metadata": {},
   "outputs": [],
   "source": [
    "# Creating the VRS object and then normalizing it.\n",
    "# Example 3 - Substituion origin: \"NC_000002.12:g.27453449C>T\"\n",
    "start = 27453448\n",
    "end = 27453449\n",
    "refseq = \"NC_000002.12\"\n",
    "alt_seq = \"T\"\n",
    "\n",
    "\n",
    "refget_accession = seqrepo_api.seqrepo_dataproxy.derive_refget_accession(f\"refseq:{refseq}\")\n",
    "seq_ref = SequenceReference(\n",
    "    refgetAccession=refget_accession.split(\"refget:\")[-1]\n",
    "    )\n",
    "\n",
    "seq_location = SequenceLocation(\n",
    "    sequenceReference=seq_ref,\n",
    "    start = start,\n",
    "    end=end,\n",
    ")\n",
    "lit_seq_expr = LiteralSequenceExpression(\n",
    "    sequence=sequenceString(alt_seq)\n",
    ")\n",
    "sub_example = Allele(\n",
    "    location=seq_location,\n",
    "    state=lit_seq_expr\n",
    ")\n",
    "\n",
    "norm_sub_example = normalize.post_normalize_allele(sub_example)\n",
    "norm_sub_example.model_dump(exclude_none=True)"
   ]
  },
  {
   "cell_type": "code",
   "execution_count": null,
   "id": "8f4bc738",
   "metadata": {},
   "outputs": [],
   "source": [
    "# Translating the normalized allele into an allele profile\n",
    "allele_profile_sub_example = allele_translator.translate_allele_to_fhir(norm_sub_example)\n",
    "\n",
    "print(type(allele_profile_sub_example))\n",
    "allele_profile_sub_example.model_dump()"
   ]
  },
  {
   "cell_type": "markdown",
   "id": "d522717d",
   "metadata": {},
   "source": [
    "### Conclusion\n",
    "\n",
    "In this notebook, we demonstrated the translation of GA4GH VRS alleles into HL7 FHIR Allele. We began by creating VRS allele objects, normalizing them, and converting them into FHIR-compliant representations using the VrsFhirAlleleTranslation class. This process enhances interoperability between GA4GH and HL7 FHIR standards, enabling seamless integration of genomic data into healthcare systems. The examples included deletion, insertion, and substitution variants.\n",
    "\n",
    "We recognize that VRS is continuously evolving, with VRS 2.0 on the horizon. As the new version stabilizes, we plan to assess its impact and potentially refactor our implementation to align with the latest standard, ensuring continued compatibility and functionality."
   ]
  }
 ],
 "metadata": {
  "language_info": {
   "name": "python"
  }
 },
 "nbformat": 4,
 "nbformat_minor": 5
}
